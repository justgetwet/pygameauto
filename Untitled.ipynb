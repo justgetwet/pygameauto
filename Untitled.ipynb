{
 "cells": [
  {
   "cell_type": "code",
   "execution_count": 17,
   "id": "f29e4527",
   "metadata": {},
   "outputs": [],
   "source": [
    "import pickle\n",
    "\n",
    "filename = \"data/20220203_hamamatsu_data.pickle\"\n",
    "with open(filename, mode=\"rb\") as f:\n",
    "    races = pickle.load(f)"
   ]
  },
  {
   "cell_type": "code",
   "execution_count": 30,
   "id": "3ee91f9e",
   "metadata": {},
   "outputs": [
    {
     "data": {
      "text/plain": [
       "[0.0,\n",
       " 1.5707963267948966,\n",
       " 3.141592653589793,\n",
       " 4.71238898038469,\n",
       " 6.283185307179586]"
      ]
     },
     "execution_count": 30,
     "metadata": {},
     "output_type": "execute_result"
    }
   ],
   "source": [
    "[np.radians(r) for r in [0, 90, 180, 270, 360]]"
   ]
  },
  {
   "cell_type": "code",
   "execution_count": 18,
   "id": "55a16134",
   "metadata": {},
   "outputs": [],
   "source": [
    "entry_df = races[1][1]"
   ]
  },
  {
   "cell_type": "code",
   "execution_count": 28,
   "id": "a54c2f86",
   "metadata": {},
   "outputs": [
    {
     "name": "stdout",
     "output_type": "stream",
     "text": [
      "0.19 1-0-4\n",
      "0.13 1-0-0\n",
      "0.16 2-3-0\n",
      "0.20 0-0-0\n",
      "0.19 2-0-1\n",
      "0.12 1-2-0\n",
      "0.17 2-0-3\n",
      "0.19 1-0-2\n"
     ]
    }
   ],
   "source": [
    "for racer in  entry_df.iloc[:,:].values:\n",
    "    no = racer[0]\n",
    "    name = \"\".join(racer[1].split()[:2])\n",
    "    # print(racer[3])\n",
    "    racer6 = racer[6].split()\n",
    "    print(racer6[1], racer6[0][3:8])\n",
    "#     handi, trial, dev = racer[3].split()\n",
    "#     rank = racer[4].split()[0]\n",
    "#     mean_trail, mean_race, _ = racer[5].split()\n",
    "#     handi_rank = handi.rjust(4, \" \") + \" \" + rank\n",
    "#     trial = trial.rjust(4, \" \") + \" \" + dev\n",
    "#     mean_values = mean_trail + \" \" + mean_race"
   ]
  },
  {
   "cell_type": "code",
   "execution_count": 31,
   "id": "3b1c5611",
   "metadata": {},
   "outputs": [
    {
     "data": {
      "text/plain": [
       "[1, 2, 3, 4, 5, 6]"
      ]
     },
     "execution_count": 31,
     "metadata": {},
     "output_type": "execute_result"
    }
   ],
   "source": [
    "ls = [1,2,3]\n",
    "ss = [4,5,6]\n",
    "ls += ss\n",
    "ls"
   ]
  },
  {
   "cell_type": "code",
   "execution_count": null,
   "id": "702bc3fc",
   "metadata": {},
   "outputs": [],
   "source": []
  }
 ],
 "metadata": {
  "kernelspec": {
   "display_name": "Python 3",
   "language": "python",
   "name": "python3"
  },
  "language_info": {
   "codemirror_mode": {
    "name": "ipython",
    "version": 3
   },
   "file_extension": ".py",
   "mimetype": "text/x-python",
   "name": "python",
   "nbconvert_exporter": "python",
   "pygments_lexer": "ipython3",
   "version": "3.9.1"
  }
 },
 "nbformat": 4,
 "nbformat_minor": 5
}
