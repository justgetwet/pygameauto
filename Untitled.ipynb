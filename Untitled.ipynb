{
 "cells": [
  {
   "cell_type": "code",
   "execution_count": 85,
   "id": "e84de3a3",
   "metadata": {},
   "outputs": [],
   "source": [
    "import pickle\n",
    "import re\n",
    "filename = \"data/20220204_hamamatsu_data.pickle\"\n",
    "with open(filename, mode=\"rb\") as f:\n",
    "    races = pickle.load(f)"
   ]
  },
  {
   "cell_type": "code",
   "execution_count": 30,
   "id": "3d466f49",
   "metadata": {},
   "outputs": [
    {
     "data": {
      "text/plain": [
       "[0.0,\n",
       " 1.5707963267948966,\n",
       " 3.141592653589793,\n",
       " 4.71238898038469,\n",
       " 6.283185307179586]"
      ]
     },
     "execution_count": 30,
     "metadata": {},
     "output_type": "execute_result"
    }
   ],
   "source": [
    "[np.radians(r) for r in [0, 90, 180, 270, 360]]"
   ]
  },
  {
   "cell_type": "code",
   "execution_count": 18,
   "id": "03017e54",
   "metadata": {},
   "outputs": [],
   "source": [
    "entry_df = races[1][1]"
   ]
  },
  {
   "cell_type": "code",
   "execution_count": 28,
   "id": "cd4413f8",
   "metadata": {},
   "outputs": [
    {
     "name": "stdout",
     "output_type": "stream",
     "text": [
      "0.19 1-0-4\n",
      "0.13 1-0-0\n",
      "0.16 2-3-0\n",
      "0.20 0-0-0\n",
      "0.19 2-0-1\n",
      "0.12 1-2-0\n",
      "0.17 2-0-3\n",
      "0.19 1-0-2\n"
     ]
    }
   ],
   "source": [
    "for racer in  entry_df.iloc[:,:].values:\n",
    "    no = racer[0]\n",
    "    name = \"\".join(racer[1].split()[:2])\n",
    "    # print(racer[3])\n",
    "    racer6 = racer[6].split()\n",
    "    print(racer6[1], racer6[0][3:8])\n",
    "#     handi, trial, dev = racer[3].split()\n",
    "#     rank = racer[4].split()[0]\n",
    "#     mean_trail, mean_race, _ = racer[5].split()\n",
    "#     handi_rank = handi.rjust(4, \" \") + \" \" + rank\n",
    "#     trial = trial.rjust(4, \" \") + \" \" + dev\n",
    "#     mean_values = mean_trail + \" \" + mean_race"
   ]
  },
  {
   "cell_type": "code",
   "execution_count": 55,
   "id": "76199aa8",
   "metadata": {},
   "outputs": [
    {
     "data": {
      "text/plain": [
       "[42.2, 66.4, 23.2, 5.1, 2.3, 2.3, 25.8, 3.6]"
      ]
     },
     "execution_count": 55,
     "metadata": {},
     "output_type": "execute_result"
    }
   ],
   "source": [
    "races[0][2][0][0][\"単勝オッズ\"].tolist()"
   ]
  },
  {
   "cell_type": "code",
   "execution_count": 78,
   "id": "802c2456",
   "metadata": {},
   "outputs": [
    {
     "data": {
      "text/plain": [
       "['5  - 7', '3.6']"
      ]
     },
     "execution_count": 78,
     "metadata": {},
     "output_type": "execute_result"
    }
   ],
   "source": [
    "races[0][2][1][2].astype(\"str\").iloc[0,1:].tolist()"
   ]
  },
  {
   "cell_type": "code",
   "execution_count": 87,
   "id": "4b48113b",
   "metadata": {},
   "outputs": [
    {
     "data": {
      "text/plain": [
       "['5→7', '7.6']"
      ]
     },
     "execution_count": 87,
     "metadata": {},
     "output_type": "execute_result"
    }
   ],
   "source": [
    "_lst =races[0][2][2][2].astype(\"str\").iloc[0,1:].tolist()\n",
    "[re.sub(\"\\xa0| \", \"\", s) for s in _lst]"
   ]
  },
  {
   "cell_type": "code",
   "execution_count": 86,
   "id": "46274964",
   "metadata": {},
   "outputs": [
    {
     "data": {
      "text/plain": [
       "['4-5-7', '6.2']"
      ]
     },
     "execution_count": 86,
     "metadata": {},
     "output_type": "execute_result"
    }
   ],
   "source": [
    "_lst = races[0][2][4][2].astype(\"str\").iloc[0,1:].tolist()\n",
    "[re.sub(\"\\xa0| \", \"\", s) for s in _lst]"
   ]
  },
  {
   "cell_type": "code",
   "execution_count": 84,
   "id": "6a4a8d56",
   "metadata": {},
   "outputs": [
    {
     "data": {
      "text/plain": [
       "['7  →  5  →  4', '20.0']"
      ]
     },
     "execution_count": 84,
     "metadata": {},
     "output_type": "execute_result"
    }
   ],
   "source": [
    "races[0][2][5][2].astype(\"str\").iloc[0,1:].tolist()"
   ]
  },
  {
   "cell_type": "code",
   "execution_count": null,
   "id": "73b1d752",
   "metadata": {},
   "outputs": [],
   "source": []
  }
 ],
 "metadata": {
  "kernelspec": {
   "display_name": "Python 3",
   "language": "python",
   "name": "python3"
  },
  "language_info": {
   "codemirror_mode": {
    "name": "ipython",
    "version": 3
   },
   "file_extension": ".py",
   "mimetype": "text/x-python",
   "name": "python",
   "nbconvert_exporter": "python",
   "pygments_lexer": "ipython3",
   "version": "3.9.1"
  }
 },
 "nbformat": 4,
 "nbformat_minor": 5
}
