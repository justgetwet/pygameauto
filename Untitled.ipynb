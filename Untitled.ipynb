{
 "cells": [
  {
   "cell_type": "code",
   "execution_count": 85,
   "id": "6b8d577d",
   "metadata": {},
   "outputs": [],
   "source": [
    "import pickle\n",
    "import re\n",
    "filename = \"data/20220204_hamamatsu_data.pickle\"\n",
    "with open(filename, mode=\"rb\") as f:\n",
    "    races = pickle.load(f)"
   ]
  },
  {
   "cell_type": "code",
   "execution_count": 104,
   "id": "17a0aa21",
   "metadata": {},
   "outputs": [],
   "source": [
    "filename = \"data/20220205_isesaki_data.pickle\"\n",
    "with open(filename, mode=\"rb\") as f:\n",
    "    races = pickle.load(f)"
   ]
  },
  {
   "cell_type": "code",
   "execution_count": 108,
   "id": "01ea346d",
   "metadata": {},
   "outputs": [
    {
     "data": {
      "text/plain": [
       "[]"
      ]
     },
     "execution_count": 108,
     "metadata": {},
     "output_type": "execute_result"
    }
   ],
   "source": [
    "races[8]"
   ]
  },
  {
   "cell_type": "code",
   "execution_count": 88,
   "id": "20e0d933",
   "metadata": {},
   "outputs": [],
   "source": [
    "entry_df = races[1][1]"
   ]
  },
  {
   "cell_type": "code",
   "execution_count": 28,
   "id": "54541cc2",
   "metadata": {},
   "outputs": [
    {
     "name": "stdout",
     "output_type": "stream",
     "text": [
      "0.19 1-0-4\n",
      "0.13 1-0-0\n",
      "0.16 2-3-0\n",
      "0.20 0-0-0\n",
      "0.19 2-0-1\n",
      "0.12 1-2-0\n",
      "0.17 2-0-3\n",
      "0.19 1-0-2\n"
     ]
    }
   ],
   "source": [
    "for racer in  entry_df.iloc[:,:].values:\n",
    "    no = racer[0]\n",
    "    name = \"\".join(racer[1].split()[:2])\n",
    "    # print(racer[3])\n",
    "    racer6 = racer[6].split()\n",
    "    print(racer6[1], racer6[0][3:8])\n",
    "#     handi, trial, dev = racer[3].split()\n",
    "#     rank = racer[4].split()[0]\n",
    "#     mean_trail, mean_race, _ = racer[5].split()\n",
    "#     handi_rank = handi.rjust(4, \" \") + \" \" + rank\n",
    "#     trial = trial.rjust(4, \" \") + \" \" + dev\n",
    "#     mean_values = mean_trail + \" \" + mean_race"
   ]
  },
  {
   "cell_type": "code",
   "execution_count": 55,
   "id": "d087d438",
   "metadata": {},
   "outputs": [
    {
     "data": {
      "text/plain": [
       "[42.2, 66.4, 23.2, 5.1, 2.3, 2.3, 25.8, 3.6]"
      ]
     },
     "execution_count": 55,
     "metadata": {},
     "output_type": "execute_result"
    }
   ],
   "source": [
    "races[0][2][0][0][\"単勝オッズ\"].tolist()"
   ]
  },
  {
   "cell_type": "code",
   "execution_count": 78,
   "id": "be97c29d",
   "metadata": {},
   "outputs": [
    {
     "data": {
      "text/plain": [
       "['5  - 7', '3.6']"
      ]
     },
     "execution_count": 78,
     "metadata": {},
     "output_type": "execute_result"
    }
   ],
   "source": [
    "races[0][2][1][2].astype(\"str\").iloc[0,1:].tolist()"
   ]
  },
  {
   "cell_type": "code",
   "execution_count": 87,
   "id": "970da6e9",
   "metadata": {},
   "outputs": [
    {
     "data": {
      "text/plain": [
       "['5→7', '7.6']"
      ]
     },
     "execution_count": 87,
     "metadata": {},
     "output_type": "execute_result"
    }
   ],
   "source": [
    "_lst =races[0][2][2][2].astype(\"str\").iloc[0,1:].tolist()\n",
    "[re.sub(\"\\xa0| \", \"\", s) for s in _lst]"
   ]
  },
  {
   "cell_type": "code",
   "execution_count": 86,
   "id": "9bbbd61e",
   "metadata": {},
   "outputs": [
    {
     "data": {
      "text/plain": [
       "['4-5-7', '6.2']"
      ]
     },
     "execution_count": 86,
     "metadata": {},
     "output_type": "execute_result"
    }
   ],
   "source": [
    "_lst = races[0][2][4][2].astype(\"str\").iloc[0,1:].tolist()\n",
    "[re.sub(\"\\xa0| \", \"\", s) for s in _lst]"
   ]
  },
  {
   "cell_type": "code",
   "execution_count": 84,
   "id": "d55da91f",
   "metadata": {},
   "outputs": [
    {
     "data": {
      "text/plain": [
       "['7  →  5  →  4', '20.0']"
      ]
     },
     "execution_count": 84,
     "metadata": {},
     "output_type": "execute_result"
    }
   ],
   "source": [
    "races[0][2][5][2].astype(\"str\").iloc[0,1:].tolist()"
   ]
  },
  {
   "cell_type": "code",
   "execution_count": 96,
   "id": "b1edee34",
   "metadata": {},
   "outputs": [
    {
     "name": "stdout",
     "output_type": "stream",
     "text": [
      "[1 '西 翔子  28歳/35期  V0/0回/V0  ハンナリ/2' '浜  松' '0m  3.41  0.096'\n",
      " 'B-106  (B-110)  39.813']\n",
      "35\n",
      "ハンナリ\n",
      "浜\n",
      "[2 '宮地 朗  46歳/25期  V0/0回/V4  チョウキョウシ/1' '飯  塚' '10m  3.47  0.108'\n",
      " 'B-69  (A-229)  51.694']\n",
      "25\n",
      "チョウキョウシ\n",
      "飯\n",
      "[3 '戸塚 茂  47歳/25期  V0/0回/V1  オーリァ/1' '浜  松' '20m  3.37  0.097'\n",
      " 'B-31  (B-36)  56.355']\n",
      "25\n",
      "オーリァ\n",
      "浜\n",
      "[4 '松尾 学  54歳/22期  V0/0回/V5  ゴブリンＨ３/1' '飯  塚' '20m  3.44  0.061'\n",
      " 'B-14  (B-2)  57.612']\n",
      "22\n",
      "ゴブリンＨ３\n",
      "飯\n",
      "[5 '青嶋\\u3000裕治  49歳/24期  V0/0回/V4  キックオフ１/1' '浜  松' '20m  3.43  0.078'\n",
      " 'A-204  (A-217)  61.069']\n",
      "24\n",
      "キックオフ１\n",
      "浜\n",
      "[6 '斎藤 努  50歳/22期  V0/0回/V4  スカイビート/1' '浜  松' '20m  3.37  0.081'\n",
      " 'A-195  (A-114)  61.902']\n",
      "22\n",
      "スカイビート\n",
      "浜\n",
      "[7 '田島\\u3000敏徳  56歳/20期  V0/0回/V18  ＤＦ・タートル/1' '飯  塚' '30m  3.36  0.108'\n",
      " 'B-8  (A-224)  58.296']\n",
      "20\n",
      "ＤＦ・タートル\n",
      "飯\n",
      "[8 '新村\\u3000嘉之  44歳/27期  V0/0回/V9  ハニーハント/1' '飯  塚' '30m  3.40  0.085'\n",
      " 'B-104  (B-107)  0.000']\n",
      "27\n",
      "ハニーハント\n",
      "飯\n"
     ]
    }
   ],
   "source": [
    "for racer in  entry_df.iloc[:,:].values:\n",
    "    print(racer[:5])\n",
    "    print(racer[1].split()[2].split(\"/\")[1].strip(\"期\"))\n",
    "    print(racer[1].split()[4].split(\"/\")[0])\n",
    "    print(racer[2][0])"
   ]
  },
  {
   "cell_type": "code",
   "execution_count": 103,
   "id": "fca7a4a6",
   "metadata": {},
   "outputs": [
    {
     "data": {
      "text/plain": [
       "[2, 3]"
      ]
     },
     "execution_count": 103,
     "metadata": {},
     "output_type": "execute_result"
    }
   ],
   "source": [
    "a = [[2, 3], [2, 5]]\n",
    "a[:][0]"
   ]
  },
  {
   "cell_type": "code",
   "execution_count": null,
   "id": "288a31d0",
   "metadata": {},
   "outputs": [],
   "source": []
  }
 ],
 "metadata": {
  "kernelspec": {
   "display_name": "Python 3",
   "language": "python",
   "name": "python3"
  },
  "language_info": {
   "codemirror_mode": {
    "name": "ipython",
    "version": 3
   },
   "file_extension": ".py",
   "mimetype": "text/x-python",
   "name": "python",
   "nbconvert_exporter": "python",
   "pygments_lexer": "ipython3",
   "version": "3.9.1"
  }
 },
 "nbformat": 4,
 "nbformat_minor": 5
}
